{
 "cells": [
  {
   "cell_type": "code",
   "execution_count": null,
   "metadata": {},
   "outputs": [
    {
     "name": "stdout",
     "output_type": "stream",
     "text": [
      "['6+ b', '+2 m', '+3 m', '+4 m', '+5 m', '+6 m', '+7 m', '+8 m', '-1 m', '-2 m', '-3 m', '-4 m', '-5 m', '-6 m', '-7 m']\n"
     ]
    }
   ],
   "source": [
    "# from sys import stdin\n",
    "\n",
    "# def read_input() -> list[str]:\n",
    "#     n = int(stdin.readline())\n",
    "#     return [stdin.readline().strip() for _ in range(n)]\n",
    "\n",
    "# teeth = read_input()\n",
    "\n",
    "with open(\"input.txt\") as file:\n",
    "    teeth = file.read().split(\"\\n\")\n",
    "    print(teeth[1:len(teeth)-1])\n",
    "\n",
    "blue = \"b\"\n",
    "missing = \"m\"\n",
    "\n",
    "left = 0\n",
    "right = 1\n",
    "soup = 2\n",
    "\n",
    "upperTeethRight = [str(n) + \"+\" for n in range(8,0, -1)]\n",
    "upperTeethLeft = [ \"+\" + str(n) for n in range(1,9)]\n",
    "lowerTeethRight = [ str(n) + \"-\" for n in range(8,0, -1)]\n",
    "lowerTeethLeft = [ \"-\" + str(n)  for n in range(1,9)]\n",
    "fullSetOfTeeth = set(upperTeethRight + upperTeethLeft + lowerTeethRight + lowerTeethLeft)\n",
    "\n",
    "setOfTeeth = set(fullSetOfTeeth)\n",
    "\n",
    "missingTeeth = set()\n",
    "\n",
    "def bluetooth(teeth):\n",
    "    for tooth in teeth:\n",
    "        if blue in tooth:\n",
    "            if tooth[0] == \"+\" or tooth[0] == \"-\":\n",
    "                setOfTeeth = fullSetOfTeeth.difference(set(lowerTeethLeft)).difference(set(upperTeethLeft))\n",
    "                return(setOfTeeth)\n",
    "            elif tooth[1] == \"+\" or tooth[1] == \"-\":\n",
    "                setOfTeeth = fullSetOfTeeth.difference(set(lowerTeethRight)).difference(set(upperTeethRight))\n",
    "                return(setOfTeeth)\n",
    "\n",
    "haraldsTeeth = bluetooth(teeth)\n",
    "for tooth in teeth:\n",
    "    if missing in tooth:\n",
    "        tooth = tooth[0:2]\n",
    "        haraldsTeeth.remove(tooth)\n",
    "\n",
    "def chew(haraldsTeeth):\n",
    "    if len(haraldsTeeth) < 3:\n",
    "        return soup\n",
    "    \n",
    "    upperJaw = set()\n",
    "    lowerJaw = set()\n",
    "    for tooth in haraldsTeeth:\n",
    "        if \"+\" in tooth:\n",
    "            upperJaw.add(tooth)\n",
    "        elif \"-\" in tooth:\n",
    "            lowerJaw.add(tooth)\n",
    "    \n",
    "    for tooth in upperJaw:\n",
    "        if tooth in lowerJaw:\n",
    "            if tooth[0] == \"+\" or tooth[0] == \"-\":\n",
    "                return left\n",
    "            else:\n",
    "                return right\n",
    "            "
   ]
  },
  {
   "cell_type": "code",
   "execution_count": null,
   "metadata": {},
   "outputs": [],
   "source": [
    "\n",
    "\n",
    "# teeth = input().split(\"\\n\")"
   ]
  },
  {
   "cell_type": "code",
   "execution_count": 84,
   "metadata": {},
   "outputs": [
    {
     "name": "stdout",
     "output_type": "stream",
     "text": [
      "{8, 4, 6}\n",
      "['8+', '7+', '6+', '5+', '4+', '3+', '2+', '1+', '+1', '+2', '+3', '+4', '+5', '+6', '+7', '+8', '8-', '7-', '6-', '5-', '4-', '3-', '2-', '1-', '-1', '-2', '-3', '-4', '-5', '-6', '-7', '-8']\n",
      "{'8+', '6+', '8-', '7+', '-2', '2-', '2+', '-1', '-7', '-6', '-5', '6-', '-3', '4+', '3+', '-4', '-8', '1-', '5+', '5-', '3-', '1+', '7-', '4-'}\n"
     ]
    }
   ],
   "source": [
    "x = set([1,2,3])\n",
    "\n",
    "z = set([1,2,3,4,6,7,8])\n",
    "\n",
    "\n",
    "print(z.difference(x).difference(set([7])))\n",
    "\n",
    "\n",
    "upperTeethRight = [str(n) + \"+\" for n in range(8,0, -1)]\n",
    "upperTeethLeft = [ \"+\" + str(n) for n in range(1,9)]\n",
    "lowerTeethRight = [ str(n) + \"-\" for n in range(8,0, -1)]\n",
    "lowerTeethLeft = [ \"-\" + str(n)  for n in range(1,9)]\n",
    "fullSetOfTeeth = upperTeethRight + upperTeethLeft + lowerTeethRight + lowerTeethLeft\n",
    "\n",
    "print(fullSetOfTeeth)\n",
    "diff = set(fullSetOfTeeth).difference(set(upperTeethLeft))\n",
    "print(diff)"
   ]
  }
 ],
 "metadata": {
  "kernelspec": {
   "display_name": "base",
   "language": "python",
   "name": "python3"
  },
  "language_info": {
   "codemirror_mode": {
    "name": "ipython",
    "version": 3
   },
   "file_extension": ".py",
   "mimetype": "text/x-python",
   "name": "python",
   "nbconvert_exporter": "python",
   "pygments_lexer": "ipython3",
   "version": "3.12.3"
  }
 },
 "nbformat": 4,
 "nbformat_minor": 2
}
