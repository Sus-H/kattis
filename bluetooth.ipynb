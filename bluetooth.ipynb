{
 "cells": [
  {
   "cell_type": "code",
   "execution_count": 81,
   "metadata": {},
   "outputs": [
    {
     "name": "stdout",
     "output_type": "stream",
     "text": [
      "['-5 b']\n"
     ]
    }
   ],
   "source": [
    "from pprint import pprint\n",
    "\n",
    "with open(\"input.txt\") as file:\n",
    "    teeth = file.read().strip().split(\"\\n\")[1:]\n",
    "    print(teeth)\n",
    "    # teeth = teeth[1:len(teeth)-1]\n",
    "\n",
    "blue = \"b\"\n",
    "missing = \"m\"\n",
    "\n",
    "left = 0\n",
    "right = 1\n",
    "soup = 2"
   ]
  },
  {
   "cell_type": "code",
   "execution_count": 82,
   "metadata": {},
   "outputs": [
    {
     "name": "stdout",
     "output_type": "stream",
     "text": [
      "{'+1',\n",
      " '+2',\n",
      " '+3',\n",
      " '+4',\n",
      " '+5',\n",
      " '+6',\n",
      " '+7',\n",
      " '+8',\n",
      " '-1',\n",
      " '-2',\n",
      " '-3',\n",
      " '-4',\n",
      " '-5',\n",
      " '-6',\n",
      " '-7',\n",
      " '-8',\n",
      " '1+',\n",
      " '1-',\n",
      " '2+',\n",
      " '2-',\n",
      " '3+',\n",
      " '3-',\n",
      " '4+',\n",
      " '4-',\n",
      " '5+',\n",
      " '5-',\n",
      " '6+',\n",
      " '6-',\n",
      " '7+',\n",
      " '7-',\n",
      " '8+',\n",
      " '8-'}\n"
     ]
    }
   ],
   "source": [
    "upperTeethRight = [str(n) + \"+\" for n in range(8,0, -1)]\n",
    "upperTeethLeft = [ \"+\" + str(n) for n in range(1,9)]\n",
    "lowerTeethRight = [ str(n) + \"-\" for n in range(8,0, -1)]\n",
    "lowerTeethLeft = [ \"-\" + str(n)  for n in range(1,9)]\n",
    "fullSetOfTeeth = set(upperTeethRight + upperTeethLeft + lowerTeethRight + lowerTeethLeft)\n",
    "setOfTeeth = fullSetOfTeeth\n",
    "missingTeeth = set()\n",
    "\n",
    "pprint(setOfTeeth)"
   ]
  },
  {
   "cell_type": "code",
   "execution_count": 83,
   "metadata": {},
   "outputs": [],
   "source": [
    "def bluetooth(teeth):\n",
    "    for tooth in teeth:\n",
    "        if blue in tooth:\n",
    "            if tooth[0] == \"+\" or tooth[0] == \"-\":\n",
    "                setOfTeeth = fullSetOfTeeth.difference(set(lowerTeethLeft)).difference(set(upperTeethLeft))\n",
    "                return(setOfTeeth)\n",
    "            elif tooth[1] == \"+\" or tooth[1] == \"-\":\n",
    "                setOfTeeth = fullSetOfTeeth.difference(set(lowerTeethRight)).difference(set(upperTeethRight))\n",
    "                print(setOfTeeth)\n",
    "                return(setOfTeeth)"
   ]
  },
  {
   "cell_type": "code",
   "execution_count": 84,
   "metadata": {},
   "outputs": [
    {
     "name": "stdout",
     "output_type": "stream",
     "text": [
      "Haralds Teeth {'3+', '1-', '5+', '1+', '2+', '8-', '4-', '2-', '5-', '6-', '8+', '4+', '7+', '7-', '6+', '3-'}\n",
      "Teeth ['-5 b']\n",
      "Haralds Teeth {'3+', '1-', '5+', '1+', '2+', '8-', '4-', '2-', '5-', '6-', '8+', '4+', '7+', '7-', '6+', '3-'}\n"
     ]
    }
   ],
   "source": [
    "haraldsTeeth = bluetooth(teeth)\n",
    "print(f\"Haralds Teeth {haraldsTeeth}\")\n",
    "print(f\"Teeth {teeth}\")\n",
    "for tooth in teeth:\n",
    "    if missing in tooth and tooth in haraldsTeeth:\n",
    "        tooth = tooth[0:2]\n",
    "        print(f\"tooth {tooth}\")\n",
    "        haraldsTeeth.remove(tooth)\n",
    "\n",
    "print(f\"Haralds Teeth {haraldsTeeth}\")\n"
   ]
  },
  {
   "cell_type": "code",
   "execution_count": 86,
   "metadata": {},
   "outputs": [
    {
     "name": "stdout",
     "output_type": "stream",
     "text": [
      "tooth 3+\n",
      "tooth 1-\n",
      "tooth 5+\n",
      "tooth 1+\n",
      "tooth 2+\n",
      "tooth 8-\n",
      "tooth 4-\n",
      "tooth 2-\n",
      "tooth 5-\n",
      "tooth 6-\n",
      "tooth 8+\n",
      "tooth 4+\n",
      "tooth 7+\n",
      "tooth 7-\n",
      "tooth 6+\n",
      "tooth 3-\n",
      "upperJawLeft  set()\n",
      "upperJawRight {'3+', '5+', '1+', '8+', '4+', '7+', '2+', '6+'}\n",
      "lowerJawRight {'1-', '4-', '2-', '5-', '6-', '8-', '7-', '3-'}\n",
      "lowerJawLeft set()\n",
      "tempUpperLeft set()\n",
      "tempLowerLeft set()\n",
      "tempUpperRight {'2', '4', '3', '7', '1', '6', '8', '5'}\n",
      "tempLowerRight set()\n",
      "2\n"
     ]
    }
   ],
   "source": [
    "def chew(haraldsTeeth):\n",
    "    if len(haraldsTeeth) < 3:\n",
    "        return soup\n",
    "    \n",
    "    leftSide = []\n",
    "    rightSide = []\n",
    "    for tooth in haraldsTeeth:\n",
    "        if tooth[0] == \"+\" or tooth[0] == \"-\":\n",
    "            leftSide.append(tooth)\n",
    "        elif tooth[1] == \"+\" or tooth[1] == \"-\":\n",
    "            rightSide.append(tooth)\n",
    "\n",
    "    upperJawLeft = set()\n",
    "    lowerJawLeft = set()\n",
    "    for tooth in leftSide:\n",
    "        if \"+\" in tooth:\n",
    "            print(f\"tooth {tooth}\")\n",
    "            upperJawLeft.add(tooth)\n",
    "        elif \"-\" in tooth:\n",
    "            print(f\"tooth {tooth}\")\n",
    "            lowerJawLeft.add(tooth)\n",
    "    \n",
    "    upperJawRight = set()\n",
    "    lowerJawRight = set()\n",
    "    for tooth in rightSide:\n",
    "        if \"+\" in tooth:\n",
    "            print(f\"tooth {tooth}\")\n",
    "            upperJawRight.add(tooth)\n",
    "        elif \"-\" in tooth:\n",
    "            print(f\"tooth {tooth}\")\n",
    "            lowerJawRight.add(tooth)\n",
    "    \n",
    "    print(f\"upperJawLeft  {upperJawLeft}\")\n",
    "    print(f\"upperJawRight {upperJawRight}\")\n",
    "    print(f\"lowerJawRight {lowerJawRight}\")\n",
    "    print(f\"lowerJawLeft {lowerJawLeft}\")\n",
    "    \n",
    "    \n",
    "    tempUpperLeft = set()\n",
    "    for tooth in upperJawLeft:\n",
    "        tempUpperLeft.add(tooth.replace(\"+\",\"\"))\n",
    "    print(f\"tempUpperLeft {tempUpperLeft}\")\n",
    "    \n",
    "    tempLowerLeft = set()\n",
    "    for tooth in lowerJawLeft:\n",
    "        tempLowerLeft.add(tooth.replace(\"-\",\"\"))\n",
    "    print(f\"tempLowerLeft {tempLowerLeft}\")\n",
    "\n",
    "    tempUpperRight= set()\n",
    "    for tooth in upperJawRight:\n",
    "        tempUpperRight.add(tooth.replace(\"+\",\"\"))\n",
    "    print(f\"tempUpperRight {tempUpperRight}\")\n",
    "    \n",
    "    tempLowerRight = set()\n",
    "    for tooth in lowerJawRight:\n",
    "        tempLowerLeft.add(tooth.replace(\"-\",\"\"))\n",
    "    print(f\"tempLowerRight {tempLowerRight}\")\n",
    "    \n",
    "    for tooth in tempUpperLeft:\n",
    "        if tooth in tempLowerLeft:\n",
    "            return left\n",
    "    for tooth in tempUpperRight:\n",
    "        if tooth in tempLowerRight:\n",
    "            return right\n",
    "    \n",
    "    return soup\n",
    "\n",
    "print(chew(haraldsTeeth))"
   ]
  }
 ],
 "metadata": {
  "kernelspec": {
   "display_name": "base",
   "language": "python",
   "name": "python3"
  },
  "language_info": {
   "codemirror_mode": {
    "name": "ipython",
    "version": 3
   },
   "file_extension": ".py",
   "mimetype": "text/x-python",
   "name": "python",
   "nbconvert_exporter": "python",
   "pygments_lexer": "ipython3",
   "version": "3.12.3"
  }
 },
 "nbformat": 4,
 "nbformat_minor": 2
}
